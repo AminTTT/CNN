{
  "nbformat": 4,
  "nbformat_minor": 0,
  "metadata": {
    "colab": {
      "provenance": []
    },
    "kernelspec": {
      "name": "python3",
      "display_name": "Python 3"
    },
    "language_info": {
      "name": "python"
    }
  },
  "cells": [
    {
      "cell_type": "code",
      "execution_count": 29,
      "metadata": {
        "id": "EeDT9ybgipMA"
      },
      "outputs": [],
      "source": [
        "import numpy as np\n",
        "import tensorflow as tf\n",
        "from tensorflow import keras\n",
        "from tensorflow.keras import layers"
      ]
    },
    {
      "cell_type": "code",
      "source": [
        "%%capture\n",
        "!pip install kaggle\n",
        "from google.colab import drive\n",
        "drive.mount('/content/drive')"
      ],
      "metadata": {
        "id": "OqwzKdAbkitD"
      },
      "execution_count": 30,
      "outputs": []
    },
    {
      "cell_type": "code",
      "source": [
        "# Define the CNN model architecture\n",
        "model = keras.Sequential([\n",
        "    layers.Conv2D(32, (3, 3), activation='relu', input_shape=(64, 64, 3)),\n",
        "    layers.MaxPooling2D((2, 2)),\n",
        "    layers.Conv2D(64, (3, 3), activation='relu'),\n",
        "    layers.MaxPooling2D((2, 2)),\n",
        "    layers.Conv2D(64, (3, 3), activation='relu'),\n",
        "    layers.Flatten(),\n",
        "    layers.Dense(64, activation='relu'),\n",
        "    layers.Dense(10)\n",
        "])"
      ],
      "metadata": {
        "id": "Nzc9OY5liv36"
      },
      "execution_count": 31,
      "outputs": []
    },
    {
      "cell_type": "code",
      "source": [
        "# Compile the model\n",
        "model.compile(optimizer='adam',\n",
        "              loss=tf.keras.losses.SparseCategoricalCrossentropy(from_logits=True),\n",
        "              metrics=['accuracy'])"
      ],
      "metadata": {
        "id": "dcrELQ0pi0F0"
      },
      "execution_count": 32,
      "outputs": []
    },
    {
      "cell_type": "code",
      "source": [
        "# Function to load and preprocess images\n",
        "def load_images(file_paths):\n",
        "    images = []\n",
        "    for path in file_paths:\n",
        "        img = keras.preprocessing.image.load_img(path, target_size=(64, 64))\n",
        "        img_array = keras.preprocessing.image.img_to_array(img)\n",
        "        images.append(img_array)\n",
        "    return np.array(images)"
      ],
      "metadata": {
        "id": "DR8dHbhmi34n"
      },
      "execution_count": 33,
      "outputs": []
    },
    {
      "cell_type": "code",
      "source": [
        "# Function to train the model\n",
        "def train_model():\n",
        "    num_classes = 10  # Number of classes for classification\n",
        "    num_epochs = 10   # Number of training epochs"
      ],
      "metadata": {
        "id": "41SfuBSNi-SC"
      },
      "execution_count": 34,
      "outputs": []
    },
    {
      "cell_type": "code",
      "source": [
        "# Load training images from user input\n",
        "train_files = []\n",
        "num_train_images = int(input(\"Enter the number of training images: \"))\n",
        "for i in range(num_train_images):\n",
        "       file_path = input(\"Enter the file path of training image {}: \".format(i+1))\n",
        "       train_files.append(file_path)\n",
        "       train_images = load_images(train_files)"
      ],
      "metadata": {
        "colab": {
          "base_uri": "https://localhost:8080/"
        },
        "id": "h901MDIDjE5F",
        "outputId": "8b65d39f-3f2c-4441-9d47-5d5ba475db88"
      },
      "execution_count": 36,
      "outputs": [
        {
          "name": "stdout",
          "output_type": "stream",
          "text": [
            "Enter the number of training images: 4\n",
            "Enter the file path of training image 1: /content/drive/MyDrive/Colab_Am/dogcat/AddictAthlete/Addict1.jpg\n",
            "Enter the file path of training image 2: /content/drive/MyDrive/Colab_Am/dogcat/AddictAthlete/Addict2.jpg\n",
            "Enter the file path of training image 3: /content/drive/MyDrive/Colab_Am/dogcat/AddictAthlete/Athlete1.jpg\n",
            "Enter the file path of training image 4: /content/drive/MyDrive/Colab_Am/dogcat/AddictAthlete/Athlete2.jpg\n"
          ]
        }
      ]
    },
    {
      "cell_type": "code",
      "source": [
        "    # Load training labels from user input\n",
        "    train_labels = []\n",
        "    for i in range(num_train_images):\n",
        "        label = int(input(\"Enter the label for training image {}: \".format(i+1)))\n",
        "        train_labels.append(label)\n",
        "    train_labels = np.array(train_labels)"
      ],
      "metadata": {
        "id": "qjArBfZLmpSm",
        "colab": {
          "base_uri": "https://localhost:8080/"
        },
        "outputId": "eabcefbc-ad4f-4d4e-ba08-8a038126d687"
      },
      "execution_count": 37,
      "outputs": [
        {
          "name": "stdout",
          "output_type": "stream",
          "text": [
            "Enter the label for training image 1: 1\n",
            "Enter the label for training image 2: 1\n",
            "Enter the label for training image 3: 2\n",
            "Enter the label for training image 4: 2\n"
          ]
        }
      ]
    },
    {
      "cell_type": "code",
      "source": [
        "    # Train the model\n",
        "    model.fit(train_images, train_labels, epochs = 5)"
      ],
      "metadata": {
        "colab": {
          "base_uri": "https://localhost:8080/"
        },
        "id": "gaU8jxPWE629",
        "outputId": "624808dc-9a49-4a6e-aac3-c0959f04db03"
      },
      "execution_count": 38,
      "outputs": [
        {
          "output_type": "stream",
          "name": "stdout",
          "text": [
            "Epoch 1/5\n",
            "1/1 [==============================] - 1s 1s/step - loss: 34.9572 - accuracy: 0.0000e+00\n",
            "Epoch 2/5\n",
            "1/1 [==============================] - 0s 41ms/step - loss: 12.3026 - accuracy: 0.5000\n",
            "Epoch 3/5\n",
            "1/1 [==============================] - 0s 50ms/step - loss: 64.1121 - accuracy: 0.5000\n",
            "Epoch 4/5\n",
            "1/1 [==============================] - 0s 39ms/step - loss: 30.5874 - accuracy: 0.5000\n",
            "Epoch 5/5\n",
            "1/1 [==============================] - 0s 39ms/step - loss: 0.0000e+00 - accuracy: 1.0000\n"
          ]
        },
        {
          "output_type": "execute_result",
          "data": {
            "text/plain": [
              "<keras.src.callbacks.History at 0x7cd791b941f0>"
            ]
          },
          "metadata": {},
          "execution_count": 38
        }
      ]
    },
    {
      "cell_type": "code",
      "source": [
        "# Function to classify a new image\n",
        "def classify_image():\n",
        "    # Load the trained model\n",
        "    model.load_weights('model_weights.h5')"
      ],
      "metadata": {
        "id": "tlWHNGguF_id"
      },
      "execution_count": 39,
      "outputs": []
    },
    {
      "cell_type": "code",
      "source": [
        "    # Load and preprocess the new image\n",
        "    file_path = input(\"Enter the file path of the new image: \")\n",
        "    new_image = load_images([file_path])"
      ],
      "metadata": {
        "colab": {
          "base_uri": "https://localhost:8080/"
        },
        "id": "lMfTuTDzH8bI",
        "outputId": "f6e98a79-8e2e-45cd-b775-c43813d7c86d"
      },
      "execution_count": 40,
      "outputs": [
        {
          "name": "stdout",
          "output_type": "stream",
          "text": [
            "Enter the file path of the new image: /content/drive/MyDrive/Colab_Am/dogcat/AddictAthlete/Addict3.jpg\n"
          ]
        }
      ]
    },
    {
      "cell_type": "code",
      "source": [
        "    # Classify the new image\n",
        "    predictions = model.predict(new_image)\n",
        "    predicted_class = np.argmax(predictions[0])\n",
        "\n",
        "    print(\"Predicted class:\", predicted_class)"
      ],
      "metadata": {
        "colab": {
          "base_uri": "https://localhost:8080/"
        },
        "id": "aUk_4On4H_lu",
        "outputId": "05d5d75d-8864-4190-ab51-55e6a9d2e5b6"
      },
      "execution_count": 41,
      "outputs": [
        {
          "output_type": "stream",
          "name": "stdout",
          "text": [
            "1/1 [==============================] - 0s 145ms/step\n",
            "Predicted class: 1\n"
          ]
        }
      ]
    },
    {
      "cell_type": "code",
      "source": [
        "# Train the model\n",
        "train_model()"
      ],
      "metadata": {
        "id": "VYlAmv-nIINZ"
      },
      "execution_count": 42,
      "outputs": []
    },
    {
      "cell_type": "code",
      "source": [
        "# Save the trained model weights\n",
        "model.save_weights('model_weights.h5')"
      ],
      "metadata": {
        "id": "mzFE-EdVIORr"
      },
      "execution_count": 43,
      "outputs": []
    },
    {
      "cell_type": "code",
      "source": [
        "# Classify a new image\n",
        "classify_image()"
      ],
      "metadata": {
        "id": "GsBuiGMuIS95"
      },
      "execution_count": 44,
      "outputs": []
    },
    {
      "cell_type": "code",
      "source": [],
      "metadata": {
        "id": "DPxKmcxSIVhS"
      },
      "execution_count": null,
      "outputs": []
    }
  ]
}